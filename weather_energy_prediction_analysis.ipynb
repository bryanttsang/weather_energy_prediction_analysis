{
 "cells": [
  {
   "cell_type": "code",
   "execution_count": 1,
   "metadata": {},
   "outputs": [],
   "source": [
    "import pandas as pd\n",
    "# from IPython.display import display\n",
    "from sklearn.linear_model import LinearRegression, LogisticRegression\n",
    "from sklearn.metrics import mean_squared_error, f1_score\n",
    "import csv\n",
    "import seaborn as sns\n",
    "import matplotlib.pyplot as plt\n",
    "\n",
    "# read data\n",
    "weather = pd.read_csv('weather_data.csv')\n",
    "energy = pd.read_csv('energy_data.csv')\n",
    "# display(weather.tail(), energy.head())"
   ]
  },
  {
   "cell_type": "code",
   "execution_count": 2,
   "metadata": {},
   "outputs": [],
   "source": [
    "\"\"\"\n",
    "1. Examine the data, parse the time fields wherever necessary. Take the sum of the energy usage\n",
    "(Use [kW]) to get per day usage and merge it with weather data (10 Points).\n",
    "\"\"\"\n",
    "weather = weather.groupby(weather.index // 24).mean() # average the data of each hour into days\n",
    "use = energy['use [kW]'].groupby(energy.index // 48).sum() # sum 'use [kW]' per every hour (2 rows)\n",
    "weather['use [kW]'] = use # merge with weather\n",
    "# display(weather.head(), weather.tail())"
   ]
  },
  {
   "cell_type": "code",
   "execution_count": 3,
   "metadata": {},
   "outputs": [],
   "source": [
    "\"\"\"\n",
    "2. Split the data obtained from step 1, into training and testing sets. The aim is to predict the usage\n",
    "for each day in the month of December using the weather data, so split accordingly. The usage as\n",
    "per devices should be dropped, only the “use [kW]” column is to be used for prediction from the\n",
    "dataset (5 points).\n",
    "\"\"\"\n",
    "not_december = weather.head(-31)  # training set\n",
    "december = weather.tail(31)       # testing set\n",
    "# print(len(not_december), len(december))"
   ]
  },
  {
   "cell_type": "code",
   "execution_count": 4,
   "metadata": {},
   "outputs": [
    {
     "name": "stdout",
     "output_type": "stream",
     "text": [
      "Root mean squared error: 7.224497564428236\n"
     ]
    }
   ],
   "source": [
    "\"\"\"\n",
    "3. Linear Regression - Predicting Energy Usage:\n",
    "Set up a simple linear regression model to train, and then predict energy usage for each day in the\n",
    "month of December using features from weather data (Note that you need to drop the “use [kW]”\n",
    "column in the test set first). How well/badly does the model work? (Evaluate the correctness of\n",
    "your predictions based on the original “use [kW]” column). Calculate the Root mean squared error\n",
    "of your model.\n",
    "Finally generate a csv dump of the predicted values. Format of csv: Two columns, first should be\n",
    "the date and second should be the predicted value. (20 points)\n",
    "\"\"\"\n",
    "linreg = LinearRegression() # initialize simple linear regression model\n",
    "\n",
    "# use temperature to predict use [kW]\n",
    "param = ['temperature']\n",
    "x = not_december[param]\n",
    "y = not_december['use [kW]']\n",
    "linreg.fit(x, y)\n",
    "prediction = linreg.predict(december[param])\n",
    "# print(prediction)\n",
    "\n",
    "# calculate root mean squared error\n",
    "error = mean_squared_error(december['use [kW]'], prediction) ** 0.5\n",
    "print('Root mean squared error:', error)\n",
    "\n",
    "date = ['2014-12-%02d' % day for day in range(1, 32)] # generate dates for the first column\n",
    "rows = zip(date, prediction) # zip date and predition into rows\n",
    "\n",
    "# generate csv for predicted values\n",
    "with open('energy_prediction.csv', 'w') as f:\n",
    "    w = csv.writer(f)\n",
    "    w.writerow(['date', 'use [kW]']) # name columns\n",
    "    w.writerows(rows)"
   ]
  },
  {
   "cell_type": "code",
   "execution_count": 5,
   "metadata": {},
   "outputs": [
    {
     "name": "stdout",
     "output_type": "stream",
     "text": [
      "F1 score: 0.6486486486486487\n"
     ]
    }
   ],
   "source": [
    "\"\"\"\n",
    "4. Logistic Regression - Temperature classification:\n",
    "Using only weather data we want to classify if the temperature is high or low. Let's assume\n",
    "temperature greater than or equal to 35 is ‘high’ and below 35 is ‘low’. Set up a logistic regression\n",
    "model to classify the temperature for each day in the month of December. Calculate the F1 score\n",
    "for the model.\n",
    "Finally generate a csv dump of the classification (1 for high, 0 for low)\n",
    "Format: Two columns, first should be the date and second should be the classification (1/0).\n",
    "(20 points)\n",
    "\"\"\"\n",
    "logreg = LogisticRegression(max_iter=500) # initialize multiple logistic regression model\n",
    "\n",
    "# use weather data to classify temperature\n",
    "param = ['humidity', 'visibility', 'pressure', 'windSpeed', 'cloudCover', 'windBearing', 'precipIntensity', 'dewPoint', 'precipProbability']\n",
    "x = not_december[param]\n",
    "y = not_december['temperature'].map(lambda x: 1 if x >= 35 else 0)\n",
    "logreg.fit(x, y)\n",
    "prediction = logreg.predict(december[param])\n",
    "# print(prediction)\n",
    "\n",
    "# calculate f1 score\n",
    "score = f1_score(december['temperature'].map(lambda x: 1 if x >= 35 else 0), prediction)\n",
    "print('F1 score:', score)\n",
    "\n",
    "date = ['2014-12-%02d' % day for day in range(1, 32)] # generate dates for the first column\n",
    "rows = zip(date, prediction) # zip date and predition into rows\n",
    "\n",
    "# generate csv for predicted values\n",
    "with open('temperature_prediction.csv', 'w') as f:\n",
    "    w = csv.writer(f)\n",
    "    w.writerow(['date', 'temperature']) # name columns\n",
    "    w.writerows(rows)"
   ]
  },
  {
   "cell_type": "code",
   "execution_count": 6,
   "metadata": {},
   "outputs": [
    {
     "data": {
      "image/png": "[encoded data removed]",
      "text/plain": [
       "<Figure size 864x360 with 1 Axes>"
      ]
     },
     "metadata": {
      "needs_background": "light"
     },
     "output_type": "display_data"
    },
    {
     "data": {
      "image/png": "[encoded data removed]",
      "text/plain": [
       "<Figure size 864x360 with 1 Axes>"
      ]
     },
     "metadata": {
      "needs_background": "light"
     },
     "output_type": "display_data"
    }
   ],
   "source": [
    "\"\"\"\n",
    "5. Energy usage data Analysis:\n",
    "We want to analyze how different devices are being used in different times of the day.\n",
    "- Is the washer being used only during the day?\n",
    "- During what time of the day is AC used most?\n",
    "There are a number of questions that can be asked.\n",
    "For simplicity, let’s divide a day in two parts:\n",
    "- Day: 6AM - 7PM\n",
    "- Night: 7PM - 6AM\n",
    "Analyze the usage of any two devices of your choice during the ‘day’ and ‘night’. Plot these\n",
    "trends. Explain your findings. (10 points)\n",
    "\n",
    "The meaning of \"day\" and \"night\" can vary. For example, in one case, \"day\" can mean the\n",
    "times when the sun is out and \"night\" can mean when the sun is not out. In another case,\n",
    "\"day\" can mean the times when a person is awake while \"night\" is when they're asleep. As per\n",
    "professor's comment on Piazza question @56 \"It is up to you, please mention your assumptions\n",
    "in the HW submission and double check with your grader about it.\", I will analyze the energy\n",
    "usage of different devices in different times of the day without being too strict on the\n",
    "definitions of \"day\" and \"night\".\n",
    "\n",
    "For AC, the hours with the highest usages are from 17 (5 pm) to 23 (11 pm) inclusive. The\n",
    "usages are especially high from 18 (6 pm) to 20 (8 pm), and there is a sudden increase from\n",
    "17 to 18. This suggests that many people go home around this time and turn on their AC to\n",
    "cool off their home. A reason why so many people go home around this time is that they just\n",
    "got off work. The high energy usage continues until around midnight, when people usually go\n",
    "to sleep. Energy usage in the day time is fairly low compared to night time, since people\n",
    "are not at home during the day.\n",
    "\n",
    "For Dryer, there is an obvious trend that energy usage are crowded around the day time, when\n",
    "most people are awake. It makes sense that people generally do laundry when they are awake,\n",
    "so that they can fold their clothes after they're done being dried. This explains why the\n",
    "energy usage decreases around 21 (9 pm), since it is probably too late to be doing laundry.\n",
    "From 22 (10 pm) to 4 (4 am), it is reasonable that the energy usages are low, since most\n",
    "people are asleep around those hours.\n",
    "\"\"\"\n",
    "# group 30 min intervals into 1 hour intervals, then sum by different hours\n",
    "energy = energy.groupby(energy.index // 2).sum().groupby(energy.index[:len(energy.index)//2] % 24).mean()\n",
    "\n",
    "# selecting AC and Dryer to analyze\n",
    "energy = energy[['AC [kW]', 'Dryer + egauge [kW]']]\n",
    "\n",
    "# plot for AC\n",
    "fig, ax = plt.subplots(figsize=(12, 5))\n",
    "sns.barplot(x=energy.index, y='AC [kW]', data=energy, palette='bright', ax=ax)\n",
    "plt.title('Average AC Energy Usage by Hour Intervals')\n",
    "ax.set_xlabel('Hour Interval')\n",
    "ax.set_ylabel('Energy Usage (kW)')\n",
    "plt.show()\n",
    "\n",
    "# plot for dryer\n",
    "fig, ax = plt.subplots(figsize=(12, 5))\n",
    "sns.barplot(x=energy.index, y='Dryer + egauge [kW]', data=energy, palette='bright', ax=ax)\n",
    "plt.title('Average Dryer Energy Usage by Hour Intervals')\n",
    "ax.set_xlabel('Hour Interval')\n",
    "ax.set_ylabel('Energy Usage (kW)')\n",
    "plt.show()"
   ]
  },
  {
   "cell_type": "code",
   "execution_count": 7,
   "metadata": {},
   "outputs": [
    {
     "data": {
      "text/plain": [
       "'\\n6. Visual Appeal and Layout - For all the tasks above, please include an explanation wherever\\nasked and make sure that your procedure is documented (suitable comments) as good as you can.\\nDon’t forget to label all plots and include legends wherever necessary as this is key to making\\ngood visualizations! Ensure that the plots are visible enough by playing with size parameters. Be\\nsure to use appropriate color schemes wherever possible to maximize the ease of understandability.\\nEverything must be laid out in a python notebook (.ipynb). (5 Point)\\n'"
      ]
     },
     "execution_count": 7,
     "metadata": {},
     "output_type": "execute_result"
    }
   ],
   "source": [
    "\"\"\"\n",
    "6. Visual Appeal and Layout - For all the tasks above, please include an explanation wherever\n",
    "asked and make sure that your procedure is documented (suitable comments) as good as you can.\n",
    "Don’t forget to label all plots and include legends wherever necessary as this is key to making\n",
    "good visualizations! Ensure that the plots are visible enough by playing with size parameters. Be\n",
    "sure to use appropriate color schemes wherever possible to maximize the ease of understandability.\n",
    "Everything must be laid out in a python notebook (.ipynb). (5 Point)\n",
    "\"\"\""
   ]
  }
 ],
 "metadata": {
  "interpreter": {
   "hash": "aee8b7b246df8f9039afb4144a1f6fd8d2ca17a180786b69acc140d282b71a49"
  },
  "kernelspec": {
   "display_name": "Python 3.9.5 64-bit",
   "language": "python",
   "name": "python3"
  },
  "language_info": {
   "codemirror_mode": {
    "name": "ipython",
    "version": 3
   },
   "file_extension": ".py",
   "mimetype": "text/x-python",
   "name": "python",
   "nbconvert_exporter": "python",
   "pygments_lexer": "ipython3",
   "version": "3.9.5"
  },
  "orig_nbformat": 4
 },
 "nbformat": 4,
 "nbformat_minor": 2
}
